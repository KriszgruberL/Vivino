{
 "cells": [
  {
   "cell_type": "markdown",
   "metadata": {},
   "source": [
    "- We want to highlight 10 wines to increase our sales. Which ones should we choose and why?\n",
    "- We have a limited marketing budget for this year. Which country should we prioritise and why?\n",
    "- We would like to give awards to the best wineries. Come up with 3 relevant ones. Which wineries should we choose and why?\n",
    "- We detected that a big cluster of customers likes a specific combination of tastes. We identified a few keywords that match these tastes: _coffee_, _toast_, _green apple_, _cream_, and _citrus_ (note that these keywords are case sensitive ⚠️). We would like you to find all the wines that are related to these keywords. Check that **at least 10 users confirm those keywords**, to ensure the accuracy of the selection. Additionally, identify an appropriate group name for this cluster.\n",
    "- We would like to select wines that are easy to find all over the world. **Find the top 3 most common `grape`s all over the world** and **for each grape, give us the the 5 best rated wines**.\n",
    "- We would like to create a country leaderboard. Come up with a visual that shows the **average wine rating for each `country`**. Do the same for the `vintages`.\n",
    "- One of our VIP clients likes _Cabernet Sauvignon_ and would like our top 5 recommendations. Which wines would you recommend to him?"
   ]
  },
  {
   "cell_type": "code",
   "execution_count": 2,
   "metadata": {},
   "outputs": [],
   "source": [
    "import sqlite3\n",
    "import sqlalchemy\n",
    "\n",
    "import pandas as pd \n",
    "import matplotlib.pyplot as plt\n",
    "import seaborn as sns\n",
    "import numpy as np\n"
   ]
  },
  {
   "cell_type": "code",
   "execution_count": 3,
   "metadata": {},
   "outputs": [],
   "source": [
    "connexion = sqlite3.connect(\"../data/vivino.db\")\n",
    "cursor = connexion.cursor()"
   ]
  },
  {
   "cell_type": "code",
   "execution_count": 4,
   "metadata": {},
   "outputs": [
    {
     "name": "stdout",
     "output_type": "stream",
     "text": [
      "Wine: Amarone della Valpolicella Classico Riserva, Average Rating: 4.8, Total Ratings: 587\n",
      "Wine: Fratini Bolgheri Superiore, Average Rating: 4.8, Total Ratings: 153\n",
      "Wine: Mágico, Average Rating: 4.8, Total Ratings: 146\n",
      "Wine: Cristal Rosé Vinothèque, Average Rating: 4.8, Total Ratings: 88\n",
      "Wine: Batard-Montrachet Grand Cru, Average Rating: 4.8, Total Ratings: 34\n",
      "Wine: Unico, Average Rating: 4.7, Total Ratings: 45140\n",
      "Wine: Sauternes, Average Rating: 4.7, Total Ratings: 45064\n",
      "Wine: Special Selection Cabernet Sauvignon, Average Rating: 4.7, Total Ratings: 41236\n",
      "Wine: Grange, Average Rating: 4.7, Total Ratings: 24356\n",
      "Wine: Unico Reserva Especial Edición, Average Rating: 4.7, Total Ratings: 13025\n"
     ]
    }
   ],
   "source": [
    "# - We want to highlight 10 wines to increase our sales. \n",
    "# Which ones should we choose and why?\n",
    "\n",
    "cursor.execute(\"\"\"\n",
    "               select   wines.name,\n",
    "                        wines.ratings_average, \n",
    "                        sum(wines.ratings_count) as total_rating, \n",
    "                        countries.users_count\n",
    "               from countries \n",
    "                    join regions on regions.country_code = countries.code\n",
    "                    join wines on wines.region_id = regions.id\n",
    "                group by wines.name\n",
    "                order by wines.ratings_average desc,  total_rating desc\n",
    "                limit 10\n",
    "               \"\"\")\n",
    "\n",
    "top_wines = cursor.fetchall()\n",
    "\n",
    "# Display the top 10 wines\n",
    "for wine in top_wines:\n",
    "    print(f\"Wine: {wine[0]}, Average Rating: {wine[1]}, Total Ratings: {wine[2]}\")\n",
    "\n",
    "\n",
    "# Those are the most high ranked and popular wines \n",
    "\n"
   ]
  },
  {
   "cell_type": "code",
   "execution_count": 5,
   "metadata": {},
   "outputs": [
    {
     "name": "stdout",
     "output_type": "stream",
     "text": [
      "Country: États-Unis, Nb_users: 12273684\n",
      "Country: France, Nb_users: 5973301\n",
      "Country: Italie, Nb_users: 4270717\n",
      "Country: Allemagne, Nb_users: 2549989\n",
      "Country: Espagne, Nb_users: 2264396\n"
     ]
    }
   ],
   "source": [
    "# - We have a limited marketing budget for this year. Which country should we prioritise and why?\n",
    "cursor.execute(\"\"\"\n",
    "               select countries.name, countries.users_count\n",
    "                from countries\n",
    "                order by countries.users_count desc\n",
    "                limit 5\n",
    "               \"\"\")\n",
    "\n",
    "countries_top = cursor.fetchall()\n",
    "\n",
    "for country in countries_top:\n",
    "    print(f\"Country: {country[0]}, Nb_users: {country[1]}\")\n",
    "\n",
    "# We should prioritize the countries with the most clients already, beceause the probability concerning the cost/ratio is better \n"
   ]
  },
  {
   "cell_type": "code",
   "execution_count": 14,
   "metadata": {},
   "outputs": [],
   "source": [
    "# - We would like to give awards to the best wineries. \n",
    "# Come up with 3 relevant ones. Which wineries should we choose and why?\n",
    "import csv\n",
    "import sys\n",
    "\n",
    "query = \"\"\"\n",
    "                select   wines.winery_id,\n",
    "                        avg(wines.ratings_average) as average_rating,\n",
    "                        count(wines.id) as number_of_wines\n",
    "                from wines\n",
    "                group by wines.winery_id\n",
    "                order BY average_rating desc\n",
    "                limit 3 \n",
    "               \"\"\"\n",
    "               \n",
    "try : \n",
    "    cursor.execute(query)\n",
    "    top_wineries = cursor.fetchall()\n",
    "except (sqlite3.connector.Error, sqlite3.DatabaseError) as e:\n",
    "    print(f\"Database error occurred: {e}\")\n",
    "except Exception as e:\n",
    "    print(f\"An unexpected error occurred: {e}\")\n",
    "    \n",
    "\n",
    "# Continue only if there are rows returned.\n",
    "if top_wineries:\n",
    "    # Write result to file.\n",
    "    headers = [col[0] for col in cursor.description] # get headers\n",
    "    top_wineries.insert(0, tuple(headers))\n",
    "    with open(\"../data/test.csv\", 'w', newline='') as csvfile:\n",
    "        csvwriter = csv.writer(csvfile, delimiter=',', quotechar='\"', quoting=csv.QUOTE_MINIMAL)\n",
    "        csvwriter.writerows(top_wineries)\n",
    "else:\n",
    "    sys.exit(\"No rows found for query: {}\".format(query))\n",
    "\n",
    "# # Display the top 10 wines\n",
    "# for winery in top_wineries:\n",
    "#     print(f\"Winery: {winery[0]}, Average rating of wines: {winery[1]:.2f}, Number of wines : {winery[2]}\")"
   ]
  },
  {
   "cell_type": "code",
   "execution_count": null,
   "metadata": {},
   "outputs": [],
   "source": [
    "# - We detected that a big cluster of customers likes a specific combination of tastes. \n",
    "# We identified a few keywords that match these tastes: \n",
    "# _coffee_, _toast_, _green apple_, _cream_, and _citrus_ (note that these keywords are case sensitive ⚠️). \n",
    "# We would like you to find all the wines that are related to these keywords. \n",
    "# Check that **at least 10 users confirm those keywords**, to ensure the accuracy of the selection. \n",
    "# Additionally, identify an appropriate group name for this cluster.\n"
   ]
  },
  {
   "cell_type": "code",
   "execution_count": null,
   "metadata": {},
   "outputs": [],
   "source": [
    "# - We would like to select wines that are easy to find all over the world. \n",
    "# Find the top 3 most common `grape`s all over the world** and **for each grape, give us the the 5 best rated wines.\n"
   ]
  },
  {
   "cell_type": "code",
   "execution_count": null,
   "metadata": {},
   "outputs": [],
   "source": [
    "# - We would like to create a country leaderboard. \n",
    "# Come up with a visual that shows the **average wine rating for each `country`**. \n",
    "# Do the same for the `vintages`.\n"
   ]
  },
  {
   "cell_type": "code",
   "execution_count": null,
   "metadata": {},
   "outputs": [],
   "source": [
    "# - One of our VIP clients likes _Cabernet Sauvignon_ and would like our top 5 recommendations. \n",
    "# Which wines would you recommend to him?"
   ]
  }
 ],
 "metadata": {
  "kernelspec": {
   "display_name": "env",
   "language": "python",
   "name": "python3"
  },
  "language_info": {
   "codemirror_mode": {
    "name": "ipython",
    "version": 3
   },
   "file_extension": ".py",
   "mimetype": "text/x-python",
   "name": "python",
   "nbconvert_exporter": "python",
   "pygments_lexer": "ipython3",
   "version": "3.12.5"
  }
 },
 "nbformat": 4,
 "nbformat_minor": 2
}
